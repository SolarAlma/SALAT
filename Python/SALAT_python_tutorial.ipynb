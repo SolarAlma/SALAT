{
 "cells": [
  {
   "cell_type": "markdown",
   "id": "33a28b14-cf0a-4960-b493-1a24177ea02d",
   "metadata": {},
   "source": [
    "<center> <h1>Python Tutorial</h1> </center>\n",
    "<center> <h2>Solar Alma Library of Auxiliary Tools (SALAT)</h2> </center>\n",
    "\n",
    "SALAT is a collection of Python (and IDL) routines which make easy to handle ALMA datasets of solar observations. It can be used to perform a quick inspection of the data.\n",
    "\n",
    "This tutorial shows how to use the different routines include within SALAT. \n",
    "\n",
    "The test datasets used in this notebook can be found in [here](https://github.com/SolarAlma/SALAT/tree/main/test_data#readme). For the particular use in this notebook, they have been locally stored.\n",
    "\n",
    "</div> <div class=\"alert alert-block alert-warning\"><b>Warning: **Please be aware that this tool does not exempt the user of their responsability when interpreting the scientific outcome of the data! </b>"
   ]
  },
  {
   "cell_type": "code",
   "execution_count": null,
   "id": "7101787a-a0b8-41d9-bc10-05045440880e",
   "metadata": {},
   "outputs": [],
   "source": [
    "#TEMPORTAL IMPORTING"
   ]
  },
  {
   "cell_type": "code",
   "execution_count": 1,
   "id": "3c5038d4-c6b9-4a43-8950-f1effb1e3f17",
   "metadata": {},
   "outputs": [],
   "source": [
    "from astropy.io import fits\n",
    "import astropy\n",
    "import numpy as np\n",
    "import matplotlib.pyplot as plt\n",
    "# import salat_read as sr\n",
    "# import salat_read_header as srhdr\n",
    "import astropy.units as u\n",
    "from datetime import datetime,timedelta\n",
    "from scipy import stats\n",
    "###Structure\n",
    "from typing import NamedTuple"
   ]
  },
  {
   "cell_type": "code",
   "execution_count": null,
   "id": "92b15ff0-c06e-4430-b1da-f6f0cedbdd54",
   "metadata": {},
   "outputs": [],
   "source": []
  },
  {
   "cell_type": "code",
   "execution_count": null,
   "id": "ebfb1a7e-e32e-48b4-9a14-74047f616903",
   "metadata": {},
   "outputs": [],
   "source": []
  },
  {
   "cell_type": "markdown",
   "id": "cd8106e8-41e8-45a2-8641-5334fcfa2e65",
   "metadata": {},
   "source": [
    "## Datasets\n",
    "This tutorial makes use of 4 different datasets:\n",
    "> 3 observations\n",
    "\n",
    "> 1 simulation"
   ]
  },
  {
   "cell_type": "code",
   "execution_count": 2,
   "id": "8411a815-d8a0-421b-8a84-d1701772cb9c",
   "metadata": {},
   "outputs": [],
   "source": [
    "path_folder = '/Users/juancg/Documents/2021/SALAT/test_data_salat/'\n",
    "file1 = path_folder+\"solaralma.b3.fba.20161222_141931-150707.2016.1.00423.S.level4.k.fits\"\n",
    "file2 = path_folder+\"solaralma.b6.fba.20170422_155917-164326.2016.1.00050.S.level4.k.fits\"\n",
    "file3 = path_folder+\"solaralma.b6.fba.20170328_150920-161212.2016.1.00788.S.level4.k.fits\""
   ]
  },
  {
   "cell_type": "code",
   "execution_count": null,
   "id": "c0266aac-3c42-4bb2-9d04-200893dff505",
   "metadata": {},
   "outputs": [],
   "source": []
  },
  {
   "cell_type": "markdown",
   "id": "ce07c119-36e1-4637-8c36-8888c7250ae3",
   "metadata": {},
   "source": [
    "## READ_FITS"
   ]
  },
  {
   "cell_type": "code",
   "execution_count": null,
   "id": "11809d16-ec0d-463f-9393-dafeb59590a6",
   "metadata": {},
   "outputs": [],
   "source": [
    "import salat_read as sr"
   ]
  },
  {
   "cell_type": "code",
   "execution_count": null,
   "id": "460704cb-a570-4e0d-886b-91414f95171c",
   "metadata": {},
   "outputs": [],
   "source": [
    "almacube1,header1,timesec1,timeutc1,beammajor1,beamminor1,beamangle1 = sr.salat_read(file4,timeout=True,beamout=True,NO_HEADER=True)"
   ]
  },
  {
   "cell_type": "code",
   "execution_count": null,
   "id": "1d635d10-c0a7-4ede-a163-bf5c87a9a44a",
   "metadata": {},
   "outputs": [],
   "source": []
  },
  {
   "cell_type": "markdown",
   "id": "ee527841-f1f5-4525-bc5a-8f5dc211324a",
   "metadata": {},
   "source": [
    "## READ HEADER"
   ]
  },
  {
   "cell_type": "code",
   "execution_count": null,
   "id": "adb6b5c4-a54b-454c-b40b-b197141c05c5",
   "metadata": {},
   "outputs": [],
   "source": [
    "import salat_read_header as srhdr"
   ]
  },
  {
   "cell_type": "code",
   "execution_count": null,
   "id": "2e192352-3f96-4be6-8ce8-ef02b62690bb",
   "metadata": {},
   "outputs": [],
   "source": [
    "header1 = srhdr.salat_read_header(file1,ALL=True)"
   ]
  },
  {
   "cell_type": "code",
   "execution_count": 4,
   "id": "da1a5eb4-3702-468a-9ba6-400204c0e211",
   "metadata": {},
   "outputs": [],
   "source": [
    "## SALAT INFO"
   ]
  },
  {
   "cell_type": "code",
   "execution_count": 6,
   "id": "49fc3271-463b-4adc-ad48-bd5a17983007",
   "metadata": {},
   "outputs": [],
   "source": [
    "import salat_info as sinfo"
   ]
  },
  {
   "cell_type": "code",
   "execution_count": 7,
   "id": "b8c31dca-09c2-43f7-9e5d-2c6bcc3b4564",
   "metadata": {},
   "outputs": [
    {
     "name": "stdout",
     "output_type": "stream",
     "text": [
      "---------------------------------------------------\n",
      "--------------- SALAT INFO part of ----------------\n",
      "-- Solar Alma Library of Auxiliary Tools (SALAT) --\n",
      "\n",
      "\n",
      "----------------------------------------------\n",
      "| Data feat.: \n",
      "----------------------------------------------\n",
      "|  ALMA BAND:  3\n",
      "|  Obs. Date:  2016-12-22\n",
      "|  ALMA proj:  2016.1.00423.S\n",
      "|  Pix. Unit:  K\n",
      "|  Pix. Size:  0.32  arcsec.\n",
      "|  Beam mean:  6242.723999999999  arcsec\n",
      "|  FOV. diam:  notcomputed\n",
      "----------------------------------------------\n",
      "| Data range \n",
      "----------------------------------------------\n",
      "|  Min =  4573.09  Kelvin\n",
      "|  Max =  10635.5  Kelvin\n",
      "----------------------------------------------\n",
      "\n"
     ]
    }
   ],
   "source": [
    "sinfo.salat_info(file1)"
   ]
  },
  {
   "cell_type": "code",
   "execution_count": null,
   "id": "7d96818d-bd1f-49bd-a5c3-84e422b761ea",
   "metadata": {},
   "outputs": [],
   "source": [
    "header1[\"INSTRUME\"]"
   ]
  },
  {
   "cell_type": "code",
   "execution_count": null,
   "id": "044b3439-ed9c-4853-a29f-651a19887dc4",
   "metadata": {},
   "outputs": [],
   "source": []
  },
  {
   "cell_type": "markdown",
   "id": "6aba3b58-152e-4176-9784-2d23136371eb",
   "metadata": {},
   "source": [
    "## STATS"
   ]
  },
  {
   "cell_type": "code",
   "execution_count": null,
   "id": "87f65819-b960-4d87-951a-fe8fbb539c42",
   "metadata": {},
   "outputs": [],
   "source": [
    "import salat_stats as sst"
   ]
  },
  {
   "cell_type": "code",
   "execution_count": null,
   "id": "46deea8e-abee-4a08-8b08-8caac2280f15",
   "metadata": {},
   "outputs": [],
   "source": [
    "datastats = sst.salat_stats(almacube1,Histogram=True,)"
   ]
  },
  {
   "cell_type": "code",
   "execution_count": null,
   "id": "8b9d79c2-c6a1-47e4-ab4c-c87fa1e9b4c3",
   "metadata": {},
   "outputs": [],
   "source": []
  },
  {
   "cell_type": "code",
   "execution_count": null,
   "id": "3e39bc9f-0d3b-47ed-8334-5e3b5a82c58a",
   "metadata": {},
   "outputs": [],
   "source": []
  }
 ],
 "metadata": {
  "kernelspec": {
   "display_name": "Python 3",
   "language": "python",
   "name": "python3"
  },
  "language_info": {
   "codemirror_mode": {
    "name": "ipython",
    "version": 3
   },
   "file_extension": ".py",
   "mimetype": "text/x-python",
   "name": "python",
   "nbconvert_exporter": "python",
   "pygments_lexer": "ipython3",
   "version": "3.7.10"
  }
 },
 "nbformat": 4,
 "nbformat_minor": 5
}
